{
 "cells": [
  {
   "cell_type": "code",
   "execution_count": 25,
   "id": "b39bcc2b",
   "metadata": {},
   "outputs": [],
   "source": [
    "import requests\n",
    "import json"
   ]
  },
  {
   "cell_type": "code",
   "execution_count": 31,
   "id": "9e3d484e",
   "metadata": {},
   "outputs": [],
   "source": [
    "url = (\"https://api.github.com/search/repositories?q=language:Java&sort=stars&order=desc&per_page=30\")"
   ]
  },
  {
   "cell_type": "code",
   "execution_count": 32,
   "id": "7794fb72",
   "metadata": {},
   "outputs": [],
   "source": [
    "content = requests.get(url)"
   ]
  },
  {
   "cell_type": "code",
   "execution_count": 33,
   "id": "020f8d7f",
   "metadata": {},
   "outputs": [
    {
     "name": "stdout",
     "output_type": "stream",
     "text": [
      "<Response [200]>\n"
     ]
    }
   ],
   "source": [
    "print(content)"
   ]
  },
  {
   "cell_type": "code",
   "execution_count": 34,
   "id": "34c4b4e9",
   "metadata": {},
   "outputs": [],
   "source": [
    "json_content = json.loads(content.text)"
   ]
  },
  {
   "cell_type": "code",
   "execution_count": 35,
   "id": "13998af4",
   "metadata": {},
   "outputs": [
    {
     "name": "stdout",
     "output_type": "stream",
     "text": [
      "https://github.com/MisterBooo/LeetCodeAnimation\n",
      "https://github.com/macrozheng/mall\n",
      "https://github.com/spring-projects/spring-framework\n",
      "https://github.com/GrowingGit/GitHub-Chinese-Top-Charts\n",
      "https://github.com/ReactiveX/RxJava\n",
      "https://github.com/square/retrofit\n",
      "https://github.com/apache/dubbo\n",
      "https://github.com/PhilJay/MPAndroidChart\n",
      "https://github.com/airbnb/lottie-android\n",
      "https://github.com/bumptech/glide\n",
      "https://github.com/jeecgboot/jeecg-boot\n",
      "https://github.com/netty/netty\n",
      "https://github.com/dbeaver/dbeaver\n",
      "https://github.com/ityouknow/spring-boot-examples\n",
      "https://github.com/apolloconfig/apollo\n",
      "https://github.com/xkcoding/spring-boot-demo\n",
      "https://github.com/JakeWharton/butterknife\n",
      "https://github.com/proxyee-down-org/proxyee-down\n",
      "https://github.com/lenve/vhr\n",
      "https://github.com/SeleniumHQ/selenium\n",
      "https://github.com/wuyouzhuguli/SpringAll\n",
      "https://github.com/dromara/hutool\n",
      "https://github.com/alibaba/spring-cloud-alibaba\n",
      "https://github.com/CymChad/BaseRecyclerViewAdapterHelper\n",
      "https://github.com/Netflix/Hystrix\n",
      "https://github.com/signalapp/Signal-Android\n",
      "https://github.com/xuxueli/xxl-job\n",
      "https://github.com/google/gson\n",
      "https://github.com/DrKLO/Telegram\n",
      "https://github.com/alibaba/Sentinel\n"
     ]
    }
   ],
   "source": [
    "urls = json_content['items']\n",
    "for i in urls:\n",
    "    print(i['html_url'])"
   ]
  },
  {
   "cell_type": "markdown",
   "id": "d74e8981",
   "metadata": {},
   "source": [
    "This ranking of the top 10 Java Project Hosted on GitHub was dated 9/17/2021"
   ]
  },
  {
   "cell_type": "code",
   "execution_count": null,
   "id": "61592c8e",
   "metadata": {},
   "outputs": [],
   "source": []
  }
 ],
 "metadata": {
  "kernelspec": {
   "display_name": "Python 3 (ipykernel)",
   "language": "python",
   "name": "python3"
  },
  "language_info": {
   "codemirror_mode": {
    "name": "ipython",
    "version": 3
   },
   "file_extension": ".py",
   "mimetype": "text/x-python",
   "name": "python",
   "nbconvert_exporter": "python",
   "pygments_lexer": "ipython3",
   "version": "3.9.7"
  }
 },
 "nbformat": 4,
 "nbformat_minor": 5
}
